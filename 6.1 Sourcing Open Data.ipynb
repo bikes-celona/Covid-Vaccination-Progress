{
 "cells": [
  {
   "cell_type": "markdown",
   "metadata": {},
   "source": [
    "# 6.1 Sourcing Open Data"
   ]
  },
  {
   "cell_type": "code",
   "execution_count": 38,
   "metadata": {},
   "outputs": [],
   "source": [
    "# import libraries\n",
    "\n",
    "import pandas as pd\n",
    "import numpy as np\n",
    "import os\n",
    "import seaborn as sns\n",
    "import matplotlib.pyplot as plt\n",
    "import matplotlib"
   ]
  },
  {
   "cell_type": "code",
   "execution_count": 39,
   "metadata": {},
   "outputs": [
    {
     "data": {
      "text/plain": [
       "'3.1.3'"
      ]
     },
     "execution_count": 39,
     "metadata": {},
     "output_type": "execute_result"
    }
   ],
   "source": [
    "matplotlib.__version__"
   ]
  },
  {
   "cell_type": "code",
   "execution_count": 40,
   "metadata": {},
   "outputs": [],
   "source": [
    "# ensure charts are displayed in notebook without calling them\n",
    "\n",
    "%matplotlib inline"
   ]
  },
  {
   "cell_type": "code",
   "execution_count": 3,
   "metadata": {},
   "outputs": [],
   "source": [
    "# import file\n",
    "\n",
    "df = pd.read_csv(r'file:///Users/Celona/Downloads/country_vacc.csv', index_col = False)"
   ]
  },
  {
   "cell_type": "code",
   "execution_count": 4,
   "metadata": {},
   "outputs": [
    {
     "data": {
      "text/plain": [
       "(43145, 15)"
      ]
     },
     "execution_count": 4,
     "metadata": {},
     "output_type": "execute_result"
    }
   ],
   "source": [
    "# check shape\n",
    "\n",
    "df.shape"
   ]
  },
  {
   "cell_type": "code",
   "execution_count": 5,
   "metadata": {},
   "outputs": [
    {
     "data": {
      "text/html": [
       "<div>\n",
       "<style scoped>\n",
       "    .dataframe tbody tr th:only-of-type {\n",
       "        vertical-align: middle;\n",
       "    }\n",
       "\n",
       "    .dataframe tbody tr th {\n",
       "        vertical-align: top;\n",
       "    }\n",
       "\n",
       "    .dataframe thead th {\n",
       "        text-align: right;\n",
       "    }\n",
       "</style>\n",
       "<table border=\"1\" class=\"dataframe\">\n",
       "  <thead>\n",
       "    <tr style=\"text-align: right;\">\n",
       "      <th></th>\n",
       "      <th>country</th>\n",
       "      <th>iso_code</th>\n",
       "      <th>date</th>\n",
       "      <th>total_vaccinations</th>\n",
       "      <th>people_vaccinated</th>\n",
       "      <th>people_fully_vaccinated</th>\n",
       "      <th>daily_vaccinations_raw</th>\n",
       "      <th>daily_vaccinations</th>\n",
       "      <th>total_vaccinations_per_hundred</th>\n",
       "      <th>people_vaccinated_per_hundred</th>\n",
       "      <th>people_fully_vaccinated_per_hundred</th>\n",
       "      <th>daily_vaccinations_per_million</th>\n",
       "      <th>vaccines</th>\n",
       "      <th>source_name</th>\n",
       "      <th>source_website</th>\n",
       "    </tr>\n",
       "  </thead>\n",
       "  <tbody>\n",
       "    <tr>\n",
       "      <th>0</th>\n",
       "      <td>Afghanistan</td>\n",
       "      <td>AFG</td>\n",
       "      <td>2021-02-22</td>\n",
       "      <td>0.0</td>\n",
       "      <td>0.0</td>\n",
       "      <td>NaN</td>\n",
       "      <td>NaN</td>\n",
       "      <td>NaN</td>\n",
       "      <td>0.0</td>\n",
       "      <td>0.0</td>\n",
       "      <td>NaN</td>\n",
       "      <td>NaN</td>\n",
       "      <td>Johnson&amp;Johnson, Oxford/AstraZeneca, Pfizer/Bi...</td>\n",
       "      <td>World Health Organization</td>\n",
       "      <td>https://app.powerbi.com/view?r=eyJrIjoiYTkyM2V...</td>\n",
       "    </tr>\n",
       "    <tr>\n",
       "      <th>1</th>\n",
       "      <td>Afghanistan</td>\n",
       "      <td>AFG</td>\n",
       "      <td>2021-02-23</td>\n",
       "      <td>NaN</td>\n",
       "      <td>NaN</td>\n",
       "      <td>NaN</td>\n",
       "      <td>NaN</td>\n",
       "      <td>1367.0</td>\n",
       "      <td>NaN</td>\n",
       "      <td>NaN</td>\n",
       "      <td>NaN</td>\n",
       "      <td>34.0</td>\n",
       "      <td>Johnson&amp;Johnson, Oxford/AstraZeneca, Pfizer/Bi...</td>\n",
       "      <td>World Health Organization</td>\n",
       "      <td>https://app.powerbi.com/view?r=eyJrIjoiYTkyM2V...</td>\n",
       "    </tr>\n",
       "    <tr>\n",
       "      <th>2</th>\n",
       "      <td>Afghanistan</td>\n",
       "      <td>AFG</td>\n",
       "      <td>2021-02-24</td>\n",
       "      <td>NaN</td>\n",
       "      <td>NaN</td>\n",
       "      <td>NaN</td>\n",
       "      <td>NaN</td>\n",
       "      <td>1367.0</td>\n",
       "      <td>NaN</td>\n",
       "      <td>NaN</td>\n",
       "      <td>NaN</td>\n",
       "      <td>34.0</td>\n",
       "      <td>Johnson&amp;Johnson, Oxford/AstraZeneca, Pfizer/Bi...</td>\n",
       "      <td>World Health Organization</td>\n",
       "      <td>https://app.powerbi.com/view?r=eyJrIjoiYTkyM2V...</td>\n",
       "    </tr>\n",
       "    <tr>\n",
       "      <th>3</th>\n",
       "      <td>Afghanistan</td>\n",
       "      <td>AFG</td>\n",
       "      <td>2021-02-25</td>\n",
       "      <td>NaN</td>\n",
       "      <td>NaN</td>\n",
       "      <td>NaN</td>\n",
       "      <td>NaN</td>\n",
       "      <td>1367.0</td>\n",
       "      <td>NaN</td>\n",
       "      <td>NaN</td>\n",
       "      <td>NaN</td>\n",
       "      <td>34.0</td>\n",
       "      <td>Johnson&amp;Johnson, Oxford/AstraZeneca, Pfizer/Bi...</td>\n",
       "      <td>World Health Organization</td>\n",
       "      <td>https://app.powerbi.com/view?r=eyJrIjoiYTkyM2V...</td>\n",
       "    </tr>\n",
       "    <tr>\n",
       "      <th>4</th>\n",
       "      <td>Afghanistan</td>\n",
       "      <td>AFG</td>\n",
       "      <td>2021-02-26</td>\n",
       "      <td>NaN</td>\n",
       "      <td>NaN</td>\n",
       "      <td>NaN</td>\n",
       "      <td>NaN</td>\n",
       "      <td>1367.0</td>\n",
       "      <td>NaN</td>\n",
       "      <td>NaN</td>\n",
       "      <td>NaN</td>\n",
       "      <td>34.0</td>\n",
       "      <td>Johnson&amp;Johnson, Oxford/AstraZeneca, Pfizer/Bi...</td>\n",
       "      <td>World Health Organization</td>\n",
       "      <td>https://app.powerbi.com/view?r=eyJrIjoiYTkyM2V...</td>\n",
       "    </tr>\n",
       "  </tbody>\n",
       "</table>\n",
       "</div>"
      ],
      "text/plain": [
       "       country iso_code        date  total_vaccinations  people_vaccinated  \\\n",
       "0  Afghanistan      AFG  2021-02-22                 0.0                0.0   \n",
       "1  Afghanistan      AFG  2021-02-23                 NaN                NaN   \n",
       "2  Afghanistan      AFG  2021-02-24                 NaN                NaN   \n",
       "3  Afghanistan      AFG  2021-02-25                 NaN                NaN   \n",
       "4  Afghanistan      AFG  2021-02-26                 NaN                NaN   \n",
       "\n",
       "   people_fully_vaccinated  daily_vaccinations_raw  daily_vaccinations  \\\n",
       "0                      NaN                     NaN                 NaN   \n",
       "1                      NaN                     NaN              1367.0   \n",
       "2                      NaN                     NaN              1367.0   \n",
       "3                      NaN                     NaN              1367.0   \n",
       "4                      NaN                     NaN              1367.0   \n",
       "\n",
       "   total_vaccinations_per_hundred  people_vaccinated_per_hundred  \\\n",
       "0                             0.0                            0.0   \n",
       "1                             NaN                            NaN   \n",
       "2                             NaN                            NaN   \n",
       "3                             NaN                            NaN   \n",
       "4                             NaN                            NaN   \n",
       "\n",
       "   people_fully_vaccinated_per_hundred  daily_vaccinations_per_million  \\\n",
       "0                                  NaN                             NaN   \n",
       "1                                  NaN                            34.0   \n",
       "2                                  NaN                            34.0   \n",
       "3                                  NaN                            34.0   \n",
       "4                                  NaN                            34.0   \n",
       "\n",
       "                                            vaccines  \\\n",
       "0  Johnson&Johnson, Oxford/AstraZeneca, Pfizer/Bi...   \n",
       "1  Johnson&Johnson, Oxford/AstraZeneca, Pfizer/Bi...   \n",
       "2  Johnson&Johnson, Oxford/AstraZeneca, Pfizer/Bi...   \n",
       "3  Johnson&Johnson, Oxford/AstraZeneca, Pfizer/Bi...   \n",
       "4  Johnson&Johnson, Oxford/AstraZeneca, Pfizer/Bi...   \n",
       "\n",
       "                 source_name  \\\n",
       "0  World Health Organization   \n",
       "1  World Health Organization   \n",
       "2  World Health Organization   \n",
       "3  World Health Organization   \n",
       "4  World Health Organization   \n",
       "\n",
       "                                      source_website  \n",
       "0  https://app.powerbi.com/view?r=eyJrIjoiYTkyM2V...  \n",
       "1  https://app.powerbi.com/view?r=eyJrIjoiYTkyM2V...  \n",
       "2  https://app.powerbi.com/view?r=eyJrIjoiYTkyM2V...  \n",
       "3  https://app.powerbi.com/view?r=eyJrIjoiYTkyM2V...  \n",
       "4  https://app.powerbi.com/view?r=eyJrIjoiYTkyM2V...  "
      ]
     },
     "execution_count": 5,
     "metadata": {},
     "output_type": "execute_result"
    }
   ],
   "source": [
    "# view df\n",
    "\n",
    "df.head()"
   ]
  },
  {
   "cell_type": "code",
   "execution_count": 10,
   "metadata": {},
   "outputs": [],
   "source": [
    "# import second data set\n",
    "\n",
    "df1 = pd.read_csv(r'file:///Users/Celona/Downloads/country_vacc2.csv', index_col = False)"
   ]
  },
  {
   "cell_type": "code",
   "execution_count": 11,
   "metadata": {},
   "outputs": [
    {
     "data": {
      "text/plain": [
       "(15104, 4)"
      ]
     },
     "execution_count": 11,
     "metadata": {},
     "output_type": "execute_result"
    }
   ],
   "source": [
    "# check shape\n",
    "\n",
    "df1.shape"
   ]
  },
  {
   "cell_type": "code",
   "execution_count": 19,
   "metadata": {},
   "outputs": [
    {
     "data": {
      "text/html": [
       "<div>\n",
       "<style scoped>\n",
       "    .dataframe tbody tr th:only-of-type {\n",
       "        vertical-align: middle;\n",
       "    }\n",
       "\n",
       "    .dataframe tbody tr th {\n",
       "        vertical-align: top;\n",
       "    }\n",
       "\n",
       "    .dataframe thead th {\n",
       "        text-align: right;\n",
       "    }\n",
       "</style>\n",
       "<table border=\"1\" class=\"dataframe\">\n",
       "  <thead>\n",
       "    <tr style=\"text-align: right;\">\n",
       "      <th></th>\n",
       "      <th>location</th>\n",
       "      <th>date</th>\n",
       "      <th>vaccine</th>\n",
       "      <th>total_vaccinations</th>\n",
       "    </tr>\n",
       "  </thead>\n",
       "  <tbody>\n",
       "    <tr>\n",
       "      <th>15099</th>\n",
       "      <td>European Union</td>\n",
       "      <td>2021-09-07</td>\n",
       "      <td>Moderna</td>\n",
       "      <td>53493461</td>\n",
       "    </tr>\n",
       "    <tr>\n",
       "      <th>15100</th>\n",
       "      <td>European Union</td>\n",
       "      <td>2021-09-07</td>\n",
       "      <td>Oxford/AstraZeneca</td>\n",
       "      <td>67013158</td>\n",
       "    </tr>\n",
       "    <tr>\n",
       "      <th>15101</th>\n",
       "      <td>European Union</td>\n",
       "      <td>2021-09-07</td>\n",
       "      <td>Pfizer/BioNTech</td>\n",
       "      <td>380676653</td>\n",
       "    </tr>\n",
       "    <tr>\n",
       "      <th>15102</th>\n",
       "      <td>European Union</td>\n",
       "      <td>2021-09-07</td>\n",
       "      <td>Sinopharm/Beijing</td>\n",
       "      <td>2089836</td>\n",
       "    </tr>\n",
       "    <tr>\n",
       "      <th>15103</th>\n",
       "      <td>European Union</td>\n",
       "      <td>2021-09-07</td>\n",
       "      <td>Sputnik V</td>\n",
       "      <td>1839048</td>\n",
       "    </tr>\n",
       "  </tbody>\n",
       "</table>\n",
       "</div>"
      ],
      "text/plain": [
       "             location        date             vaccine  total_vaccinations\n",
       "15099  European Union  2021-09-07             Moderna            53493461\n",
       "15100  European Union  2021-09-07  Oxford/AstraZeneca            67013158\n",
       "15101  European Union  2021-09-07     Pfizer/BioNTech           380676653\n",
       "15102  European Union  2021-09-07   Sinopharm/Beijing             2089836\n",
       "15103  European Union  2021-09-07           Sputnik V             1839048"
      ]
     },
     "execution_count": 19,
     "metadata": {},
     "output_type": "execute_result"
    }
   ],
   "source": [
    "# view df1\n",
    "\n",
    "df1.tail()"
   ]
  },
  {
   "cell_type": "markdown",
   "metadata": {},
   "source": [
    "### Data Cleaning"
   ]
  },
  {
   "cell_type": "code",
   "execution_count": 7,
   "metadata": {},
   "outputs": [],
   "source": [
    "# delete column\n",
    "\n",
    "del df['source_website']"
   ]
  },
  {
   "cell_type": "code",
   "execution_count": 24,
   "metadata": {},
   "outputs": [],
   "source": [
    "# renaming columns\n",
    "\n",
    "df.rename(columns = {'total_vaccinations':'total_vacc','people_vaccinated':'ppl_vacc','people_fully_vaccinated':'ppl_fully_vacc','daily_vaccinations_raw':'daily_vacc_raw','daily_vaccinations':'daily_vacc','total_vaccinations_per_hundred':'total_vacc_per_hund','people_vaccinated_per_hundred':'ppl_vacc_per_hund','daily_vaccinations_per_million':'daily_vacc_per_mill','people_fully_vaccinated_per_hundred':'ppl_fully_vacc_per_hund'}, inplace = True)"
   ]
  },
  {
   "cell_type": "code",
   "execution_count": 25,
   "metadata": {},
   "outputs": [
    {
     "data": {
      "text/plain": [
       "country                     object\n",
       "iso_code                    object\n",
       "date                        object\n",
       "total_vacc                 float64\n",
       "ppl_vacc                   float64\n",
       "ppl_fully_vacc             float64\n",
       "daily_vacc_raw             float64\n",
       "daily_vacc                 float64\n",
       "total_vacc_per_hund        float64\n",
       "ppl_vacc_per_hund          float64\n",
       "ppl_fully_vacc_per_hund    float64\n",
       "daily_vacc_per_mill        float64\n",
       "vaccines                    object\n",
       "source_name                 object\n",
       "dtype: object"
      ]
     },
     "execution_count": 25,
     "metadata": {},
     "output_type": "execute_result"
    }
   ],
   "source": [
    "df.dtypes"
   ]
  },
  {
   "cell_type": "markdown",
   "metadata": {},
   "source": [
    "### missing values check:"
   ]
  },
  {
   "cell_type": "code",
   "execution_count": 46,
   "metadata": {},
   "outputs": [
    {
     "data": {
      "text/plain": [
       "country                        0\n",
       "iso_code                       0\n",
       "date                           0\n",
       "total_vacc                 19579\n",
       "ppl_vacc                   20667\n",
       "ppl_fully_vacc             23577\n",
       "daily_vacc_raw             23803\n",
       "daily_vacc                   237\n",
       "total_vacc_per_hund        19579\n",
       "ppl_vacc_per_hund          20667\n",
       "ppl_fully_vacc_per_hund    23577\n",
       "daily_vacc_per_mill          237\n",
       "vaccines                       0\n",
       "source_name                    0\n",
       "dtype: int64"
      ]
     },
     "execution_count": 46,
     "metadata": {},
     "output_type": "execute_result"
    }
   ],
   "source": [
    "# check for missing values\n",
    "\n",
    "df.isnull().sum() # lots of missing values"
   ]
  },
  {
   "cell_type": "code",
   "execution_count": 37,
   "metadata": {},
   "outputs": [
    {
     "data": {
      "text/html": [
       "<div>\n",
       "<style scoped>\n",
       "    .dataframe tbody tr th:only-of-type {\n",
       "        vertical-align: middle;\n",
       "    }\n",
       "\n",
       "    .dataframe tbody tr th {\n",
       "        vertical-align: top;\n",
       "    }\n",
       "\n",
       "    .dataframe thead th {\n",
       "        text-align: right;\n",
       "    }\n",
       "</style>\n",
       "<table border=\"1\" class=\"dataframe\">\n",
       "  <thead>\n",
       "    <tr style=\"text-align: right;\">\n",
       "      <th></th>\n",
       "      <th>total_vacc</th>\n",
       "      <th>ppl_vacc</th>\n",
       "      <th>ppl_fully_vacc</th>\n",
       "      <th>daily_vacc_raw</th>\n",
       "      <th>daily_vacc</th>\n",
       "      <th>total_vacc_per_hund</th>\n",
       "      <th>ppl_vacc_per_hund</th>\n",
       "      <th>ppl_fully_vacc_per_hund</th>\n",
       "      <th>daily_vacc_per_mill</th>\n",
       "    </tr>\n",
       "  </thead>\n",
       "  <tbody>\n",
       "    <tr>\n",
       "      <th>count</th>\n",
       "      <td>2.356600e+04</td>\n",
       "      <td>2.247800e+04</td>\n",
       "      <td>1.956800e+04</td>\n",
       "      <td>1.934200e+04</td>\n",
       "      <td>4.290800e+04</td>\n",
       "      <td>23566.000000</td>\n",
       "      <td>22478.000000</td>\n",
       "      <td>19568.000000</td>\n",
       "      <td>42908.000000</td>\n",
       "    </tr>\n",
       "    <tr>\n",
       "      <th>mean</th>\n",
       "      <td>1.883726e+07</td>\n",
       "      <td>8.072089e+06</td>\n",
       "      <td>4.997908e+06</td>\n",
       "      <td>2.585451e+05</td>\n",
       "      <td>1.295117e+05</td>\n",
       "      <td>41.187589</td>\n",
       "      <td>25.164684</td>\n",
       "      <td>18.296327</td>\n",
       "      <td>3581.597464</td>\n",
       "    </tr>\n",
       "    <tr>\n",
       "      <th>std</th>\n",
       "      <td>1.081814e+08</td>\n",
       "      <td>3.022117e+07</td>\n",
       "      <td>1.783659e+07</td>\n",
       "      <td>1.330244e+06</td>\n",
       "      <td>8.866319e+05</td>\n",
       "      <td>43.284737</td>\n",
       "      <td>23.787232</td>\n",
       "      <td>20.465884</td>\n",
       "      <td>4494.778919</td>\n",
       "    </tr>\n",
       "    <tr>\n",
       "      <th>min</th>\n",
       "      <td>0.000000e+00</td>\n",
       "      <td>0.000000e+00</td>\n",
       "      <td>1.000000e+00</td>\n",
       "      <td>0.000000e+00</td>\n",
       "      <td>0.000000e+00</td>\n",
       "      <td>0.000000</td>\n",
       "      <td>0.000000</td>\n",
       "      <td>0.000000</td>\n",
       "      <td>0.000000</td>\n",
       "    </tr>\n",
       "    <tr>\n",
       "      <th>25%</th>\n",
       "      <td>1.916785e+05</td>\n",
       "      <td>1.561700e+05</td>\n",
       "      <td>7.371675e+04</td>\n",
       "      <td>5.017500e+03</td>\n",
       "      <td>8.470000e+02</td>\n",
       "      <td>4.830000</td>\n",
       "      <td>3.740000</td>\n",
       "      <td>2.130000</td>\n",
       "      <td>501.000000</td>\n",
       "    </tr>\n",
       "    <tr>\n",
       "      <th>50%</th>\n",
       "      <td>1.357706e+06</td>\n",
       "      <td>9.465780e+05</td>\n",
       "      <td>5.660290e+05</td>\n",
       "      <td>2.427250e+04</td>\n",
       "      <td>6.788500e+03</td>\n",
       "      <td>24.120000</td>\n",
       "      <td>16.860000</td>\n",
       "      <td>9.460000</td>\n",
       "      <td>2196.000000</td>\n",
       "    </tr>\n",
       "    <tr>\n",
       "      <th>75%</th>\n",
       "      <td>7.207125e+06</td>\n",
       "      <td>4.373221e+06</td>\n",
       "      <td>2.857599e+06</td>\n",
       "      <td>1.100740e+05</td>\n",
       "      <td>4.092275e+04</td>\n",
       "      <td>68.425000</td>\n",
       "      <td>43.590000</td>\n",
       "      <td>28.990000</td>\n",
       "      <td>5380.250000</td>\n",
       "    </tr>\n",
       "    <tr>\n",
       "      <th>max</th>\n",
       "      <td>2.119025e+09</td>\n",
       "      <td>1.072500e+09</td>\n",
       "      <td>8.894390e+08</td>\n",
       "      <td>2.474100e+07</td>\n",
       "      <td>2.242429e+07</td>\n",
       "      <td>234.150000</td>\n",
       "      <td>117.710000</td>\n",
       "      <td>116.440000</td>\n",
       "      <td>117497.000000</td>\n",
       "    </tr>\n",
       "  </tbody>\n",
       "</table>\n",
       "</div>"
      ],
      "text/plain": [
       "         total_vacc      ppl_vacc  ppl_fully_vacc  daily_vacc_raw  \\\n",
       "count  2.356600e+04  2.247800e+04    1.956800e+04    1.934200e+04   \n",
       "mean   1.883726e+07  8.072089e+06    4.997908e+06    2.585451e+05   \n",
       "std    1.081814e+08  3.022117e+07    1.783659e+07    1.330244e+06   \n",
       "min    0.000000e+00  0.000000e+00    1.000000e+00    0.000000e+00   \n",
       "25%    1.916785e+05  1.561700e+05    7.371675e+04    5.017500e+03   \n",
       "50%    1.357706e+06  9.465780e+05    5.660290e+05    2.427250e+04   \n",
       "75%    7.207125e+06  4.373221e+06    2.857599e+06    1.100740e+05   \n",
       "max    2.119025e+09  1.072500e+09    8.894390e+08    2.474100e+07   \n",
       "\n",
       "         daily_vacc  total_vacc_per_hund  ppl_vacc_per_hund  \\\n",
       "count  4.290800e+04         23566.000000       22478.000000   \n",
       "mean   1.295117e+05            41.187589          25.164684   \n",
       "std    8.866319e+05            43.284737          23.787232   \n",
       "min    0.000000e+00             0.000000           0.000000   \n",
       "25%    8.470000e+02             4.830000           3.740000   \n",
       "50%    6.788500e+03            24.120000          16.860000   \n",
       "75%    4.092275e+04            68.425000          43.590000   \n",
       "max    2.242429e+07           234.150000         117.710000   \n",
       "\n",
       "       ppl_fully_vacc_per_hund  daily_vacc_per_mill  \n",
       "count             19568.000000         42908.000000  \n",
       "mean                 18.296327          3581.597464  \n",
       "std                  20.465884          4494.778919  \n",
       "min                   0.000000             0.000000  \n",
       "25%                   2.130000           501.000000  \n",
       "50%                   9.460000          2196.000000  \n",
       "75%                  28.990000          5380.250000  \n",
       "max                 116.440000        117497.000000  "
      ]
     },
     "execution_count": 37,
     "metadata": {},
     "output_type": "execute_result"
    }
   ],
   "source": [
    "df.describe()"
   ]
  },
  {
   "cell_type": "code",
   "execution_count": 29,
   "metadata": {},
   "outputs": [
    {
     "data": {
      "text/plain": [
       "location              0\n",
       "date                  0\n",
       "vaccine               0\n",
       "total_vaccinations    0\n",
       "dtype: int64"
      ]
     },
     "execution_count": 29,
     "metadata": {},
     "output_type": "execute_result"
    }
   ],
   "source": [
    "# check for missing values\n",
    "\n",
    "df1.isnull().sum() # no missing values"
   ]
  },
  {
   "cell_type": "markdown",
   "metadata": {},
   "source": [
    "### duplicates check:"
   ]
  },
  {
   "cell_type": "code",
   "execution_count": 27,
   "metadata": {},
   "outputs": [],
   "source": [
    "# find duplicates\n",
    "\n",
    "df_dups = df[df.duplicated()]"
   ]
  },
  {
   "cell_type": "code",
   "execution_count": 28,
   "metadata": {},
   "outputs": [
    {
     "data": {
      "text/plain": [
       "(0, 14)"
      ]
     },
     "execution_count": 28,
     "metadata": {},
     "output_type": "execute_result"
    }
   ],
   "source": [
    "df_dups.shape #no duplicates"
   ]
  },
  {
   "cell_type": "code",
   "execution_count": 30,
   "metadata": {},
   "outputs": [],
   "source": [
    "# find duplicates\n",
    "\n",
    "df1_dups = df1[df1.duplicated()]"
   ]
  },
  {
   "cell_type": "code",
   "execution_count": 31,
   "metadata": {},
   "outputs": [
    {
     "data": {
      "text/plain": [
       "(0, 4)"
      ]
     },
     "execution_count": 31,
     "metadata": {},
     "output_type": "execute_result"
    }
   ],
   "source": [
    "df1_dups.shape # no duplicates"
   ]
  },
  {
   "cell_type": "markdown",
   "metadata": {},
   "source": [
    "### mixed_type data:"
   ]
  },
  {
   "cell_type": "code",
   "execution_count": 34,
   "metadata": {},
   "outputs": [],
   "source": [
    "# check for mixed-types\n",
    "\n",
    "for col in df.columns.tolist():\n",
    "    weird = (df[[col]].applymap(type) != df[[col]].iloc[0].apply(type)).any(axis = 1)\n",
    "    if len (df[weird]) > 0:\n",
    "        print (col)\n",
    "# no mixed types"
   ]
  },
  {
   "cell_type": "code",
   "execution_count": 35,
   "metadata": {},
   "outputs": [],
   "source": [
    "# check for mixed-types\n",
    "\n",
    "for col in df1.columns.tolist():\n",
    "    weird = (df1[[col]].applymap(type) != df1[[col]].iloc[0].apply(type)).any(axis = 1)\n",
    "    if len (df1[weird]) > 0:\n",
    "        pring(col)\n",
    "# no mixed types"
   ]
  },
  {
   "cell_type": "code",
   "execution_count": null,
   "metadata": {},
   "outputs": [],
   "source": [
    "df.to_csv('country_')"
   ]
  }
 ],
 "metadata": {
  "kernelspec": {
   "display_name": "Python 3",
   "language": "python",
   "name": "python3"
  },
  "language_info": {
   "codemirror_mode": {
    "name": "ipython",
    "version": 3
   },
   "file_extension": ".py",
   "mimetype": "text/x-python",
   "name": "python",
   "nbconvert_exporter": "python",
   "pygments_lexer": "ipython3",
   "version": "3.7.6"
  }
 },
 "nbformat": 4,
 "nbformat_minor": 4
}
